{
  "cells": [
    {
      "cell_type": "code",
      "execution_count": null,
      "metadata": {
        "id": "_6xhDthisMNu"
      },
      "outputs": [],
      "source": [
        "import pandas as pd\n",
        "import numpy as np\n",
        "import matplotlib.pyplot as plt\n",
        "import cv2\n",
        "import glob\n",
        "import time\n",
        "from IPython.display import clear_output"
      ]
    },
    {
      "cell_type": "code",
      "execution_count": null,
      "metadata": {
        "id": "s-2XBG5ZsMNx"
      },
      "outputs": [],
      "source": [
        "from d2l import torch as d2l\n",
        "import torch\n",
        "import torch.nn as nn\n",
        "import torch.optim as optim\n",
        "from torchvision.transforms import ToTensor\n",
        "from torch.utils.data import DataLoader, Dataset\n",
        "from sklearn.model_selection import train_test_split"
      ]
    },
    {
      "cell_type": "markdown",
      "metadata": {
        "id": "s-3Kn8w2sMNy"
      },
      "source": [
        "# ASTEROID"
      ]
    },
    {
      "cell_type": "markdown",
      "metadata": {
        "id": "BmemU_55sMNz"
      },
      "source": [
        "## DATA"
      ]
    },
    {
      "cell_type": "code",
      "execution_count": null,
      "metadata": {
        "id": "N9TbxCkrsMNz"
      },
      "outputs": [],
      "source": [
        "# get file names\n",
        "galaxy = glob.glob('star-galaxy/galaxy/*')\n",
        "star = glob.glob('star-galaxy/star/*')\n",
        "\n",
        "# initialize arrays for images and labels\n",
        "num_images = len(galaxy) + len(star)\n",
        "images = []\n",
        "labels = []\n",
        "\n",
        "for x in galaxy:\n",
        "    image = cv2.imread(x,1)\n",
        "    image = np.array(image)\n",
        "    images.append(image)\n",
        "    labels.append(1)\n",
        "\n",
        "for x in star:\n",
        "    image = cv2.imread(x,1)\n",
        "    image = np.array(image)\n",
        "    images.append(image)\n",
        "    labels.append(0)\n",
        "\n",
        "images, labels= np.array(images), np.array(labels)\n",
        "dataframe = pd.DataFrame(list(zip(images, labels)), columns=['images','labels'])"
      ]
    },
    {
      "cell_type": "code",
      "execution_count": null,
      "metadata": {
        "id": "A4ejm_93sMNz",
        "outputId": "24cdf6a0-a7a3-4235-ddde-3b8d747c31e1"
      },
      "outputs": [
        {
          "data": {
            "text/plain": [
              "0    3044\n",
              "1     942\n",
              "Name: labels, dtype: int64"
            ]
          },
          "execution_count": 4,
          "metadata": {},
          "output_type": "execute_result"
        }
      ],
      "source": [
        "dataframe['labels'].value_counts()"
      ]
    },
    {
      "cell_type": "code",
      "execution_count": null,
      "metadata": {
        "id": "02kq0qNSsMN0"
      },
      "outputs": [],
      "source": [
        "# assume DataFrame\n",
        "grouped = dataframe.groupby('labels')\n",
        "# get 200 random samples from each group then Shuffle it data\n",
        "data = grouped.apply(lambda x: x.sample(n=900)).sample(frac=1).reset_index(drop=True)\n",
        "# Split data into train and test sets\n",
        "train_data, test_data = train_test_split(data, test_size=0.3)"
      ]
    },
    {
      "cell_type": "code",
      "execution_count": null,
      "metadata": {
        "id": "x65Z-VEVsMN1",
        "outputId": "bc4712ae-019d-405b-ed2c-f63d81b27fd1"
      },
      "outputs": [
        {
          "data": {
            "text/html": [
              "<div>\n",
              "<style scoped>\n",
              "    .dataframe tbody tr th:only-of-type {\n",
              "        vertical-align: middle;\n",
              "    }\n",
              "\n",
              "    .dataframe tbody tr th {\n",
              "        vertical-align: top;\n",
              "    }\n",
              "\n",
              "    .dataframe thead th {\n",
              "        text-align: right;\n",
              "    }\n",
              "</style>\n",
              "<table border=\"1\" class=\"dataframe\">\n",
              "  <thead>\n",
              "    <tr style=\"text-align: right;\">\n",
              "      <th></th>\n",
              "      <th>images</th>\n",
              "      <th>labels</th>\n",
              "    </tr>\n",
              "  </thead>\n",
              "  <tbody>\n",
              "    <tr>\n",
              "      <th>230</th>\n",
              "      <td>[[[85, 85, 85], [85, 85, 85], [110, 110, 110],...</td>\n",
              "      <td>1</td>\n",
              "    </tr>\n",
              "    <tr>\n",
              "      <th>559</th>\n",
              "      <td>[[[60, 60, 60], [43, 43, 43], [115, 115, 115],...</td>\n",
              "      <td>1</td>\n",
              "    </tr>\n",
              "    <tr>\n",
              "      <th>1019</th>\n",
              "      <td>[[[78, 78, 78], [79, 79, 79], [57, 57, 57], [8...</td>\n",
              "      <td>1</td>\n",
              "    </tr>\n",
              "    <tr>\n",
              "      <th>61</th>\n",
              "      <td>[[[62, 62, 62], [49, 49, 49], [47, 47, 47], [4...</td>\n",
              "      <td>1</td>\n",
              "    </tr>\n",
              "    <tr>\n",
              "      <th>86</th>\n",
              "      <td>[[[56, 56, 56], [80, 80, 80], [118, 118, 118],...</td>\n",
              "      <td>0</td>\n",
              "    </tr>\n",
              "    <tr>\n",
              "      <th>...</th>\n",
              "      <td>...</td>\n",
              "      <td>...</td>\n",
              "    </tr>\n",
              "    <tr>\n",
              "      <th>901</th>\n",
              "      <td>[[[83, 83, 83], [77, 77, 77], [76, 76, 76], [9...</td>\n",
              "      <td>0</td>\n",
              "    </tr>\n",
              "    <tr>\n",
              "      <th>639</th>\n",
              "      <td>[[[84, 84, 84], [56, 56, 56], [112, 112, 112],...</td>\n",
              "      <td>1</td>\n",
              "    </tr>\n",
              "    <tr>\n",
              "      <th>132</th>\n",
              "      <td>[[[122, 122, 122], [80, 80, 80], [84, 84, 84],...</td>\n",
              "      <td>0</td>\n",
              "    </tr>\n",
              "    <tr>\n",
              "      <th>735</th>\n",
              "      <td>[[[58, 58, 58], [43, 43, 43], [89, 89, 89], [4...</td>\n",
              "      <td>0</td>\n",
              "    </tr>\n",
              "    <tr>\n",
              "      <th>241</th>\n",
              "      <td>[[[114, 114, 114], [174, 174, 174], [139, 139,...</td>\n",
              "      <td>1</td>\n",
              "    </tr>\n",
              "  </tbody>\n",
              "</table>\n",
              "<p>1260 rows × 2 columns</p>\n",
              "</div>"
            ],
            "text/plain": [
              "                                                 images  labels\n",
              "230   [[[85, 85, 85], [85, 85, 85], [110, 110, 110],...       1\n",
              "559   [[[60, 60, 60], [43, 43, 43], [115, 115, 115],...       1\n",
              "1019  [[[78, 78, 78], [79, 79, 79], [57, 57, 57], [8...       1\n",
              "61    [[[62, 62, 62], [49, 49, 49], [47, 47, 47], [4...       1\n",
              "86    [[[56, 56, 56], [80, 80, 80], [118, 118, 118],...       0\n",
              "...                                                 ...     ...\n",
              "901   [[[83, 83, 83], [77, 77, 77], [76, 76, 76], [9...       0\n",
              "639   [[[84, 84, 84], [56, 56, 56], [112, 112, 112],...       1\n",
              "132   [[[122, 122, 122], [80, 80, 80], [84, 84, 84],...       0\n",
              "735   [[[58, 58, 58], [43, 43, 43], [89, 89, 89], [4...       0\n",
              "241   [[[114, 114, 114], [174, 174, 174], [139, 139,...       1\n",
              "\n",
              "[1260 rows x 2 columns]"
            ]
          },
          "execution_count": 6,
          "metadata": {},
          "output_type": "execute_result"
        }
      ],
      "source": [
        "train_data"
      ]
    },
    {
      "cell_type": "code",
      "execution_count": null,
      "metadata": {
        "id": "35OTBNIEsMN1"
      },
      "outputs": [],
      "source": [
        "class CustomDataset(Dataset):\n",
        "    def __init__(self, data, transform=None):\n",
        "        self.data = data\n",
        "        # self.transform = transform.Normalize(mean=[0.485, 0.456, 0.406], std=[0.229, 0.224, 0.225])\n",
        "\n",
        "    def __len__(self):\n",
        "        return len(self.data)\n",
        "\n",
        "    def __getitem__(self, idx):\n",
        "        image = self.data.iloc[idx]['images']\n",
        "        label = self.data.iloc[idx]['labels']\n",
        "        transform = ToTensor()\n",
        "        image = transform(image)\n",
        "        return image, label"
      ]
    },
    {
      "cell_type": "code",
      "execution_count": null,
      "metadata": {
        "id": "u_D520jwsMN2"
      },
      "outputs": [],
      "source": [
        "train = CustomDataset(train_data)\n",
        "test = CustomDataset(test_data)"
      ]
    },
    {
      "cell_type": "markdown",
      "metadata": {
        "id": "vOM1CiDKsMN2"
      },
      "source": [
        "## MODEL"
      ]
    },
    {
      "cell_type": "markdown",
      "metadata": {
        "id": "kn3NqzShsMN3"
      },
      "source": [
        "### AlexNet Custom"
      ]
    },
    {
      "cell_type": "code",
      "execution_count": null,
      "metadata": {
        "id": "fmRaH--KsMN3"
      },
      "outputs": [],
      "source": [
        "\n",
        "class AlexNet(nn.Module):\n",
        "    def __init__(self, num_classes=2):\n",
        "        super(AlexNet, self).__init__()\n",
        "\n",
        "        self.features = nn.Sequential(\n",
        "            nn.Conv2d(3, 64, kernel_size=11, stride=4, padding=2),\n",
        "            nn.ReLU(inplace=True),\n",
        "            nn.MaxPool2d(kernel_size=3, stride=2),\n",
        "\n",
        "            nn.Conv2d(64, 96, kernel_size=5, padding=2),\n",
        "            nn.ReLU(inplace=True),\n",
        "            nn.MaxPool2d(kernel_size=3, stride=2),\n",
        "\n",
        "            nn.Conv2d(96, 256, kernel_size=3, padding=1),\n",
        "            nn.ReLU(inplace=True),\n",
        "\n",
        "            nn.Conv2d(256, 384, kernel_size=3, padding=1),\n",
        "            nn.ReLU(inplace=True),\n",
        "\n",
        "            nn.Conv2d(384, 384, kernel_size=3, padding=1),\n",
        "            nn.ReLU(inplace=True),\n",
        "\n",
        "            nn.Conv2d(384, 384, kernel_size=3, padding=1),\n",
        "            nn.ReLU(inplace=True),\n",
        "            nn.MaxPool2d(kernel_size=3, stride=2)\n",
        "        )\n",
        "\n",
        "        self.avgpool = nn.AdaptiveAvgPool2d((6, 6))\n",
        "\n",
        "        self.classifier = nn.Sequential(\n",
        "            nn.Dropout(),\n",
        "            nn.Linear(384 * 6 * 6, 4096),\n",
        "            nn.ReLU(inplace=True),\n",
        "            nn.Dropout(),\n",
        "            nn.Linear(4096, 4096),\n",
        "            nn.ReLU(inplace=True),\n",
        "            nn.Linear(4096, num_classes) #Softmax Classifier\n",
        "        )\n",
        "        self.fc = nn.Linear(384 * 6 * 6, num_classes) # Thay thế fully connected layer cuối cùng bằng SVM\n",
        "\n",
        "    def forward(self, x):\n",
        "        x = self.features(x)\n",
        "        x = self.avgpool(x)\n",
        "        x = torch.flatten(x, 1)\n",
        "        # x = x.view(x.size(0), 12288)\n",
        "        x = self.fc(x)\n",
        "        return x\n"
      ]
    },
    {
      "cell_type": "markdown",
      "metadata": {
        "id": "qcuP-1vBsMN4"
      },
      "source": [
        "### VGG"
      ]
    },
    {
      "cell_type": "markdown",
      "metadata": {
        "id": "-Q-5zZcrsMN4"
      },
      "source": [
        "nhiều tầng hơn hoặc bằng, nhưng kích thước của kernel giảm đi, hiệu quả hơn\n"
      ]
    },
    {
      "cell_type": "code",
      "execution_count": null,
      "metadata": {
        "id": "yOPoPl1IsMN4"
      },
      "outputs": [],
      "source": [
        "class VGG(nn.Module):\n",
        "    def __init__(self):\n",
        "        super(VGG, self).__init__()\n",
        "        self.conv1_1 = nn.Conv2d(3, 64, kernel_size=3, padding=1)\n",
        "        self.conv1_2 = nn.Conv2d(64, 64, kernel_size=3, padding=1)\n",
        "        self.pool1 = nn.MaxPool2d(kernel_size=2, stride=2)\n",
        "        self.conv2_1 = nn.Conv2d(64, 128, kernel_size=3, padding=1)\n",
        "        self.conv2_2 = nn.Conv2d(128, 128, kernel_size=3, padding=1)\n",
        "        self.pool2 = nn.MaxPool2d(kernel_size=2, stride=2)\n",
        "        self.conv3_1 = nn.Conv2d(128, 256, kernel_size=3, padding=1)\n",
        "        self.conv3_2 = nn.Conv2d(256, 256, kernel_size=3, padding=1)\n",
        "        self.conv3_3 = nn.Conv2d(256, 256, kernel_size=3, padding=1)\n",
        "        self.pool3 = nn.MaxPool2d(kernel_size=2, stride=2)\n",
        "        self.conv4_1 = nn.Conv2d(256, 512, kernel_size=3, padding=1)\n",
        "        self.conv4_2 = nn.Conv2d(512, 512, kernel_size=3, padding=1)\n",
        "        self.conv4_3 = nn.Conv2d(512, 512, kernel_size=3, padding=1)\n",
        "        self.pool4 = nn.MaxPool2d(kernel_size=2, stride=2)\n",
        "        self.conv5_1 = nn.Conv2d(512, 512, kernel_size=3, padding=1)\n",
        "        self.conv5_2 = nn.Conv2d(512, 512, kernel_size=3, padding=1)\n",
        "        self.conv5_3 = nn.Conv2d(512, 512, kernel_size=3, padding=1)\n",
        "        self.pool5 = nn.MaxPool2d(kernel_size=2, stride=2)\n",
        "        #Fully connected\n",
        "        self.fc6 = nn.Linear(512 * 2 * 2, 4096)\n",
        "        self.fc7 = nn.Linear(4096, 4096)\n",
        "        self.fc8 = nn.Linear(4096, 2)\n",
        "        #SVM\n",
        "        self.fc = nn.Linear(512 * 2 * 2, 2) #num_classes\n",
        "\n",
        "    def forward(self, x):\n",
        "        x = nn.functional.relu(self.conv1_1(x))\n",
        "        x = nn.functional.relu(self.conv1_2(x))\n",
        "        x = self.pool1(x)\n",
        "        x = nn.functional.relu(self.conv2_1(x))\n",
        "        x = nn.functional.relu(self.conv2_2(x))\n",
        "        x = self.pool2(x)\n",
        "        x = nn.functional.relu(self.conv3_1(x))\n",
        "        x = nn.functional.relu(self.conv3_2(x))\n",
        "        x = nn.functional.relu(self.conv3_3(x))\n",
        "        x = self.pool3(x)\n",
        "        x = nn.functional.relu(self.conv4_1(x))\n",
        "        x = nn.functional.relu(self.conv4_2(x))\n",
        "        x = nn.functional.relu(self.conv4_3(x))\n",
        "        x = self.pool4(x)\n",
        "        x = nn.functional.relu(self.conv5_1(x))\n",
        "        x = nn.functional.relu(self.conv5_2(x))\n",
        "        x = nn.functional.relu(self.conv5_3(x))\n",
        "        x = self.pool5(x)\n",
        "\n",
        "        x = torch.flatten(x, 1)\n",
        "        x = self.fc(x)\n",
        "\n",
        "        # x = torch.flatten(x, 1)\n",
        "        # x = nn.functional.relu(self.fc6(x))\n",
        "        # x = nn.functional.relu(self.fc7(x))\n",
        "        # x = self.fc8(x)\n",
        "\n",
        "        return x\n",
        ""
      ]
    },
    {
      "cell_type": "markdown",
      "metadata": {
        "id": "EArad3mHsMN4"
      },
      "source": [
        "### GOOGLE NET"
      ]
    },
    {
      "cell_type": "code",
      "execution_count": null,
      "metadata": {
        "id": "1O35FDeXsMN4"
      },
      "outputs": [],
      "source": [
        "class Inception(nn.Module):\n",
        "    def __init__(self, in_channels, ch1x1, ch3x3reduce, ch3x3, ch5x5reduce, ch5x5, pool_proj):\n",
        "        super(Inception, self).__init__()\n",
        "        # 1x1 conv branch\n",
        "        self.branch1 = nn.Sequential(\n",
        "            nn.Conv2d(in_channels, ch1x1, kernel_size=1),\n",
        "            nn.ReLU(inplace=True)\n",
        "        )\n",
        "\n",
        "        # 1x1 conv -> 3x3 conv branch\n",
        "        self.branch2 = nn.Sequential(\n",
        "            nn.Conv2d(in_channels, ch3x3reduce, kernel_size=1),\n",
        "            nn.ReLU(inplace=True),\n",
        "            nn.Conv2d(ch3x3reduce, ch3x3, kernel_size=3, padding=1),\n",
        "            nn.ReLU(inplace=True)\n",
        "        )\n",
        "\n",
        "        # 1x1 conv -> 5x5 conv branch\n",
        "        self.branch3 = nn.Sequential(\n",
        "            nn.Conv2d(in_channels, ch5x5reduce, kernel_size=1),\n",
        "            nn.ReLU(inplace=True),\n",
        "            nn.Conv2d(ch5x5reduce, ch5x5, kernel_size=5, padding=2),\n",
        "            nn.ReLU(inplace=True)\n",
        "        )\n",
        "\n",
        "        # 3x3 pool -> 1x1 conv branch\n",
        "        self.branch4 = nn.Sequential(\n",
        "            nn.MaxPool2d(kernel_size=3, stride=1, padding=1),\n",
        "            nn.Conv2d(in_channels, pool_proj, kernel_size=1),\n",
        "            nn.ReLU(inplace=True)\n",
        "        )\n",
        "\n",
        "    def forward(self, x):\n",
        "        branch1_output = self.branch1(x)\n",
        "        branch2_output = self.branch2(x)\n",
        "        branch3_output = self.branch3(x)\n",
        "        branch4_output = self.branch4(x)\n",
        "        outputs = [branch1_output, branch2_output, branch3_output, branch4_output]\n",
        "        return torch.cat(outputs, 1)\n",
        "\n",
        "class GoogleNet(nn.Module):\n",
        "    def __init__(self, in_channels=3, num_classes=2):\n",
        "        super(GoogleNet, self).__init__()\n",
        "        self.conv1 = nn.Sequential(\n",
        "            nn.Conv2d(in_channels, 64, kernel_size=7, stride=2, padding=3),\n",
        "            nn.ReLU(inplace=True),\n",
        "            nn.MaxPool2d(kernel_size=3, stride=2, padding=1)\n",
        "        )\n",
        "        self.conv2 = nn.Sequential(\n",
        "            nn.Conv2d(64, 64, kernel_size=1),\n",
        "            nn.ReLU(inplace=True),\n",
        "            nn.Conv2d(64, 192, kernel_size=3, padding=1),\n",
        "            nn.ReLU(inplace=True),\n",
        "            nn.MaxPool2d(kernel_size=3, stride=2, padding=1)\n",
        "        )\n",
        "        self.inception3a = Inception(192, 64, 96, 128, 16, 32, 32)\n",
        "        self.inception3b = Inception(256, 128, 128, 192, 32, 96, 64)\n",
        "        self.maxpool = nn.MaxPool2d(kernel_size=3, stride=2, padding=1)\n",
        "        self.inception4a = Inception(480, 192, 96, 208, 16, 48, 64)\n",
        "        self.inception4b = Inception(512, 160, 112, 224, 24, 64, 64)\n",
        "        self.inception4c = Inception(512, 128, 128, 256, 24, 64, 64)\n",
        "        self.inception4d = Inception(512, 112, 144, 288, 32, 64, 64)\n",
        "        self.inception4e = Inception(528, 256, 160, 320, 32, 128, 128)\n",
        "        self.inception5a = Inception(832, 256, 160, 320, 32, 128, 128)\n",
        "        self.inception5b = Inception(832, 384, 192, 384, 48, 128, 128)\n",
        "        self.avgpool = nn.AdaptiveAvgPool2d((1, 1))\n",
        "        self.dropout = nn.Dropout(0.4)\n",
        "        self.fc = nn.Linear(1024, num_classes)\n",
        "\n",
        "    def forward(self, x):\n",
        "        x = self.conv1(x)\n",
        "        x = self.conv2(x)\n",
        "        x = self.inception3a(x)\n",
        "        x = self.inception3b(x)\n",
        "        x = self.maxpool(x)\n",
        "        x = self.inception4a(x)\n",
        "        x = self.inception4b(x)\n",
        "        x = self.inception4c(x)\n",
        "        x = self.inception4d(x)\n",
        "        x = self.inception4e(x)\n",
        "        x = self.maxpool(x)\n",
        "        x = self.inception5a(x)\n",
        "        x = self.inception5b(x)\n",
        "        x = self.avgpool(x)\n",
        "        x = x.view(x.size(0), -1)\n",
        "        x = self.dropout(x)\n",
        "\n",
        "        x = self.fc(x)\n",
        "        return x\n"
      ]
    },
    {
      "cell_type": "markdown",
      "metadata": {
        "id": "BpKQGw9ZsMN5"
      },
      "source": [
        "1x1x256 convolution operations\n",
        "3x3x256 convolution operations\n",
        "gradient vanish\n",
        "GAP"
      ]
    },
    {
      "cell_type": "markdown",
      "metadata": {
        "id": "nvUGQeGgsMN5"
      },
      "source": [
        "## TRAIN"
      ]
    },
    {
      "cell_type": "markdown",
      "metadata": {
        "id": "SKPgo5sCsMN5"
      },
      "source": [
        "### custom train_ch6 with SGD"
      ]
    },
    {
      "cell_type": "code",
      "execution_count": null,
      "metadata": {
        "id": "iWWcuqy1sMN5"
      },
      "outputs": [],
      "source": [
        "def train_ch6(net, train_iter, test_iter, num_epochs, lr, device):\n",
        "    \"\"\"Train a model with a GPU using PyTorch (defined in Chapter 6).\"\"\"\n",
        "    net.to(device)\n",
        "    optimizer = optim.SGD(net.parameters(), lr=lr)\n",
        "    loss = nn.CrossEntropyLoss()\n",
        "    animator = d2l.Animator(xlabel='epoch', xlim=[0, num_epochs],\n",
        "                            legend=['train loss', 'train acc', 'test acc'])\n",
        "    start_time = time.time()\n",
        "\n",
        "    train_loss = []\n",
        "    train_acc = []\n",
        "    test_acc = []\n",
        "    n = len(train_iter)\n",
        "    epoch_fracs = []\n",
        "    for epoch in range(num_epochs):\n",
        "        # Sum of training loss, sum of training accuracy, no. of examples\n",
        "        metric = d2l.Accumulator(3)\n",
        "        for i, (X, y) in enumerate(train_iter):\n",
        "            X, y = X.to(device), y.to(device)\n",
        "            optimizer.zero_grad()\n",
        "            y_hat = net(X)\n",
        "            l = loss(y_hat, y)\n",
        "            l.backward()\n",
        "            optimizer.step()\n",
        "            with torch.no_grad():\n",
        "                metric.add(l * X.shape[0], d2l.accuracy(y_hat, y), X.shape[0])\n",
        "\n",
        "            end_time = time.time()\n",
        "            if (i + 1) % 50 == 0:\n",
        "                animator.add(epoch + i / n,\n",
        "                             (train_loss, train_acc, None))\n",
        "            train_loss.append(metric[0] / metric[2])\n",
        "            train_acc.append(metric[1] / metric[2])\n",
        "            test_acc.append(d2l.evaluate_accuracy_gpu(net, test_iter))\n",
        "            # Update epoch_fracs\n",
        "            epoch_fracs.append(epoch + i / n)\n",
        "\n",
        "        # Plot train_loss and train_acc\n",
        "        clear_output(wait=True)\n",
        "        plt.plot(epoch_fracs, train_loss, label='train loss')\n",
        "        plt.plot(epoch_fracs, train_acc, label='train acc')\n",
        "        plt.plot(epoch_fracs, test_acc,label='test acc')\n",
        "        plt.xlabel('Epoch')\n",
        "        plt.ylabel('Value')\n",
        "        plt.legend(loc='upper left')\n",
        "        plt.pause(0.1)\n",
        "\n",
        "    plt.show()\n",
        "    print(f'Epoch {epoch}, train loss {train_loss[-1]:.3f}, train acc {train_acc[-1]:.3f}, '\n",
        "        f'test acc {test_acc[-1]:.3f}')\n",
        "    print(f\"Training completed in {end_time - start_time:.2f}s\")\n"
      ]
    },
    {
      "cell_type": "markdown",
      "metadata": {
        "id": "JS7AM-L5sMN5"
      },
      "source": [
        "### Training"
      ]
    },
    {
      "cell_type": "code",
      "execution_count": null,
      "metadata": {
        "id": "8uIIhFwpsMN5",
        "outputId": "ba13b13c-88c3-42db-ea57-45f25536c609"
      },
      "outputs": [
        {
          "data": {
            "text/plain": [
              "['NVIDIA GeForce GTX 1650 Ti']"
            ]
          },
          "execution_count": 11,
          "metadata": {},
          "output_type": "execute_result"
        }
      ],
      "source": [
        "devices = [d for d in range(torch.cuda.device_count())]\n",
        "device_names  = [torch.cuda.get_device_name(d) for d in devices]\n",
        "device_names"
      ]
    },
    {
      "cell_type": "code",
      "execution_count": null,
      "metadata": {
        "id": "oWkPsODgsMN6"
      },
      "outputs": [],
      "source": [
        "train_dataloader = DataLoader(train, batch_size=32, shuffle=True)\n",
        "test_dataloader = DataLoader(test, batch_size=32, shuffle=False)\n",
        "\n",
        "# Define model, loss function, and optimizer\n",
        "loss_fn = nn.CrossEntropyLoss()\n",
        "device = torch.device(\"cuda:0\")\n",
        "lr, num_epochs = 0.05, 20"
      ]
    },
    {
      "cell_type": "code",
      "execution_count": null,
      "metadata": {
        "id": "Krby-LeEsMN6"
      },
      "outputs": [],
      "source": [
        "# for id, (a,b) in enumerate(train_dataloader):\n",
        "#     print(id, a, b)"
      ]
    },
    {
      "cell_type": "code",
      "execution_count": null,
      "metadata": {
        "id": "irM6CWOCsMN6",
        "outputId": "ee53a0cb-6921-40ea-b73c-e1e944fe9d98"
      },
      "outputs": [
        {
          "name": "stdout",
          "output_type": "stream",
          "text": [
            "loss 0.431, train acc 0.806, test acc 0.719\n",
            "1295.2 examples/sec on cuda:0\n"
          ]
        },
        {
          "data": {
            "image/svg+xml": "<?xml version=\"1.0\" encoding=\"utf-8\" standalone=\"no\"?>\n<!DOCTYPE svg PUBLIC \"-//W3C//DTD SVG 1.1//EN\"\n  \"http://www.w3.org/Graphics/SVG/1.1/DTD/svg11.dtd\">\n<svg xmlns:xlink=\"http://www.w3.org/1999/xlink\" width=\"238.965625pt\" height=\"183.35625pt\" viewBox=\"0 0 238.965625 183.35625\" xmlns=\"http://www.w3.org/2000/svg\" version=\"1.1\">\n <metadata>\n  <rdf:RDF xmlns:dc=\"http://purl.org/dc/elements/1.1/\" xmlns:cc=\"http://creativecommons.org/ns#\" xmlns:rdf=\"http://www.w3.org/1999/02/22-rdf-syntax-ns#\">\n   <cc:Work>\n    <dc:type rdf:resource=\"http://purl.org/dc/dcmitype/StillImage\"/>\n    <dc:date>2023-05-06T20:12:47.030287</dc:date>\n    <dc:format>image/svg+xml</dc:format>\n    <dc:creator>\n     <cc:Agent>\n      <dc:title>Matplotlib v3.5.1, https://matplotlib.org/</dc:title>\n     </cc:Agent>\n    </dc:creator>\n   </cc:Work>\n  </rdf:RDF>\n </metadata>\n <defs>\n  <style type=\"text/css\">*{stroke-linejoin: round; stroke-linecap: butt}</style>\n </defs>\n <g id=\"figure_1\">\n  <g id=\"patch_1\">\n   <path d=\"M 0 183.35625 \nL 238.965625 183.35625 \nL 238.965625 0 \nL 0 0 \nz\n\" style=\"fill: #ffffff\"/>\n  </g>\n  <g id=\"axes_1\">\n   <g id=\"patch_2\">\n    <path d=\"M 30.103125 145.8 \nL 225.403125 145.8 \nL 225.403125 7.2 \nL 30.103125 7.2 \nz\n\" style=\"fill: #ffffff\"/>\n   </g>\n   <g id=\"matplotlib.axis_1\">\n    <g id=\"xtick_1\">\n     <g id=\"line2d_1\">\n      <path d=\"M 71.218914 145.8 \nL 71.218914 7.2 \n\" clip-path=\"url(#pbccec35ea0)\" style=\"fill: none; stroke: #b0b0b0; stroke-width: 0.8; stroke-linecap: square\"/>\n     </g>\n     <g id=\"line2d_2\">\n      <defs>\n       <path id=\"m80cbdbb45b\" d=\"M 0 0 \nL 0 3.5 \n\" style=\"stroke: #000000; stroke-width: 0.8\"/>\n      </defs>\n      <g>\n       <use xlink:href=\"#m80cbdbb45b\" x=\"71.218914\" y=\"145.8\" style=\"stroke: #000000; stroke-width: 0.8\"/>\n      </g>\n     </g>\n     <g id=\"text_1\">\n      <!-- 5 -->\n      <g transform=\"translate(68.037664 160.398438)scale(0.1 -0.1)\">\n       <defs>\n        <path id=\"DejaVuSans-35\" d=\"M 691 4666 \nL 3169 4666 \nL 3169 4134 \nL 1269 4134 \nL 1269 2991 \nQ 1406 3038 1543 3061 \nQ 1681 3084 1819 3084 \nQ 2600 3084 3056 2656 \nQ 3513 2228 3513 1497 \nQ 3513 744 3044 326 \nQ 2575 -91 1722 -91 \nQ 1428 -91 1123 -41 \nQ 819 9 494 109 \nL 494 744 \nQ 775 591 1075 516 \nQ 1375 441 1709 441 \nQ 2250 441 2565 725 \nQ 2881 1009 2881 1497 \nQ 2881 1984 2565 2268 \nQ 2250 2553 1709 2553 \nQ 1456 2553 1204 2497 \nQ 953 2441 691 2322 \nL 691 4666 \nz\n\" transform=\"scale(0.015625)\"/>\n       </defs>\n       <use xlink:href=\"#DejaVuSans-35\"/>\n      </g>\n     </g>\n    </g>\n    <g id=\"xtick_2\">\n     <g id=\"line2d_3\">\n      <path d=\"M 122.613651 145.8 \nL 122.613651 7.2 \n\" clip-path=\"url(#pbccec35ea0)\" style=\"fill: none; stroke: #b0b0b0; stroke-width: 0.8; stroke-linecap: square\"/>\n     </g>\n     <g id=\"line2d_4\">\n      <g>\n       <use xlink:href=\"#m80cbdbb45b\" x=\"122.613651\" y=\"145.8\" style=\"stroke: #000000; stroke-width: 0.8\"/>\n      </g>\n     </g>\n     <g id=\"text_2\">\n      <!-- 10 -->\n      <g transform=\"translate(116.251151 160.398438)scale(0.1 -0.1)\">\n       <defs>\n        <path id=\"DejaVuSans-31\" d=\"M 794 531 \nL 1825 531 \nL 1825 4091 \nL 703 3866 \nL 703 4441 \nL 1819 4666 \nL 2450 4666 \nL 2450 531 \nL 3481 531 \nL 3481 0 \nL 794 0 \nL 794 531 \nz\n\" transform=\"scale(0.015625)\"/>\n        <path id=\"DejaVuSans-30\" d=\"M 2034 4250 \nQ 1547 4250 1301 3770 \nQ 1056 3291 1056 2328 \nQ 1056 1369 1301 889 \nQ 1547 409 2034 409 \nQ 2525 409 2770 889 \nQ 3016 1369 3016 2328 \nQ 3016 3291 2770 3770 \nQ 2525 4250 2034 4250 \nz\nM 2034 4750 \nQ 2819 4750 3233 4129 \nQ 3647 3509 3647 2328 \nQ 3647 1150 3233 529 \nQ 2819 -91 2034 -91 \nQ 1250 -91 836 529 \nQ 422 1150 422 2328 \nQ 422 3509 836 4129 \nQ 1250 4750 2034 4750 \nz\n\" transform=\"scale(0.015625)\"/>\n       </defs>\n       <use xlink:href=\"#DejaVuSans-31\"/>\n       <use xlink:href=\"#DejaVuSans-30\" x=\"63.623047\"/>\n      </g>\n     </g>\n    </g>\n    <g id=\"xtick_3\">\n     <g id=\"line2d_5\">\n      <path d=\"M 174.008388 145.8 \nL 174.008388 7.2 \n\" clip-path=\"url(#pbccec35ea0)\" style=\"fill: none; stroke: #b0b0b0; stroke-width: 0.8; stroke-linecap: square\"/>\n     </g>\n     <g id=\"line2d_6\">\n      <g>\n       <use xlink:href=\"#m80cbdbb45b\" x=\"174.008388\" y=\"145.8\" style=\"stroke: #000000; stroke-width: 0.8\"/>\n      </g>\n     </g>\n     <g id=\"text_3\">\n      <!-- 15 -->\n      <g transform=\"translate(167.645888 160.398438)scale(0.1 -0.1)\">\n       <use xlink:href=\"#DejaVuSans-31\"/>\n       <use xlink:href=\"#DejaVuSans-35\" x=\"63.623047\"/>\n      </g>\n     </g>\n    </g>\n    <g id=\"xtick_4\">\n     <g id=\"line2d_7\">\n      <path d=\"M 225.403125 145.8 \nL 225.403125 7.2 \n\" clip-path=\"url(#pbccec35ea0)\" style=\"fill: none; stroke: #b0b0b0; stroke-width: 0.8; stroke-linecap: square\"/>\n     </g>\n     <g id=\"line2d_8\">\n      <g>\n       <use xlink:href=\"#m80cbdbb45b\" x=\"225.403125\" y=\"145.8\" style=\"stroke: #000000; stroke-width: 0.8\"/>\n      </g>\n     </g>\n     <g id=\"text_4\">\n      <!-- 20 -->\n      <g transform=\"translate(219.040625 160.398438)scale(0.1 -0.1)\">\n       <defs>\n        <path id=\"DejaVuSans-32\" d=\"M 1228 531 \nL 3431 531 \nL 3431 0 \nL 469 0 \nL 469 531 \nQ 828 903 1448 1529 \nQ 2069 2156 2228 2338 \nQ 2531 2678 2651 2914 \nQ 2772 3150 2772 3378 \nQ 2772 3750 2511 3984 \nQ 2250 4219 1831 4219 \nQ 1534 4219 1204 4116 \nQ 875 4013 500 3803 \nL 500 4441 \nQ 881 4594 1212 4672 \nQ 1544 4750 1819 4750 \nQ 2544 4750 2975 4387 \nQ 3406 4025 3406 3419 \nQ 3406 3131 3298 2873 \nQ 3191 2616 2906 2266 \nQ 2828 2175 2409 1742 \nQ 1991 1309 1228 531 \nz\n\" transform=\"scale(0.015625)\"/>\n       </defs>\n       <use xlink:href=\"#DejaVuSans-32\"/>\n       <use xlink:href=\"#DejaVuSans-30\" x=\"63.623047\"/>\n      </g>\n     </g>\n    </g>\n    <g id=\"text_5\">\n     <!-- epoch -->\n     <g transform=\"translate(112.525 174.076563)scale(0.1 -0.1)\">\n      <defs>\n       <path id=\"DejaVuSans-65\" d=\"M 3597 1894 \nL 3597 1613 \nL 953 1613 \nQ 991 1019 1311 708 \nQ 1631 397 2203 397 \nQ 2534 397 2845 478 \nQ 3156 559 3463 722 \nL 3463 178 \nQ 3153 47 2828 -22 \nQ 2503 -91 2169 -91 \nQ 1331 -91 842 396 \nQ 353 884 353 1716 \nQ 353 2575 817 3079 \nQ 1281 3584 2069 3584 \nQ 2775 3584 3186 3129 \nQ 3597 2675 3597 1894 \nz\nM 3022 2063 \nQ 3016 2534 2758 2815 \nQ 2500 3097 2075 3097 \nQ 1594 3097 1305 2825 \nQ 1016 2553 972 2059 \nL 3022 2063 \nz\n\" transform=\"scale(0.015625)\"/>\n       <path id=\"DejaVuSans-70\" d=\"M 1159 525 \nL 1159 -1331 \nL 581 -1331 \nL 581 3500 \nL 1159 3500 \nL 1159 2969 \nQ 1341 3281 1617 3432 \nQ 1894 3584 2278 3584 \nQ 2916 3584 3314 3078 \nQ 3713 2572 3713 1747 \nQ 3713 922 3314 415 \nQ 2916 -91 2278 -91 \nQ 1894 -91 1617 61 \nQ 1341 213 1159 525 \nz\nM 3116 1747 \nQ 3116 2381 2855 2742 \nQ 2594 3103 2138 3103 \nQ 1681 3103 1420 2742 \nQ 1159 2381 1159 1747 \nQ 1159 1113 1420 752 \nQ 1681 391 2138 391 \nQ 2594 391 2855 752 \nQ 3116 1113 3116 1747 \nz\n\" transform=\"scale(0.015625)\"/>\n       <path id=\"DejaVuSans-6f\" d=\"M 1959 3097 \nQ 1497 3097 1228 2736 \nQ 959 2375 959 1747 \nQ 959 1119 1226 758 \nQ 1494 397 1959 397 \nQ 2419 397 2687 759 \nQ 2956 1122 2956 1747 \nQ 2956 2369 2687 2733 \nQ 2419 3097 1959 3097 \nz\nM 1959 3584 \nQ 2709 3584 3137 3096 \nQ 3566 2609 3566 1747 \nQ 3566 888 3137 398 \nQ 2709 -91 1959 -91 \nQ 1206 -91 779 398 \nQ 353 888 353 1747 \nQ 353 2609 779 3096 \nQ 1206 3584 1959 3584 \nz\n\" transform=\"scale(0.015625)\"/>\n       <path id=\"DejaVuSans-63\" d=\"M 3122 3366 \nL 3122 2828 \nQ 2878 2963 2633 3030 \nQ 2388 3097 2138 3097 \nQ 1578 3097 1268 2742 \nQ 959 2388 959 1747 \nQ 959 1106 1268 751 \nQ 1578 397 2138 397 \nQ 2388 397 2633 464 \nQ 2878 531 3122 666 \nL 3122 134 \nQ 2881 22 2623 -34 \nQ 2366 -91 2075 -91 \nQ 1284 -91 818 406 \nQ 353 903 353 1747 \nQ 353 2603 823 3093 \nQ 1294 3584 2113 3584 \nQ 2378 3584 2631 3529 \nQ 2884 3475 3122 3366 \nz\n\" transform=\"scale(0.015625)\"/>\n       <path id=\"DejaVuSans-68\" d=\"M 3513 2113 \nL 3513 0 \nL 2938 0 \nL 2938 2094 \nQ 2938 2591 2744 2837 \nQ 2550 3084 2163 3084 \nQ 1697 3084 1428 2787 \nQ 1159 2491 1159 1978 \nL 1159 0 \nL 581 0 \nL 581 4863 \nL 1159 4863 \nL 1159 2956 \nQ 1366 3272 1645 3428 \nQ 1925 3584 2291 3584 \nQ 2894 3584 3203 3211 \nQ 3513 2838 3513 2113 \nz\n\" transform=\"scale(0.015625)\"/>\n      </defs>\n      <use xlink:href=\"#DejaVuSans-65\"/>\n      <use xlink:href=\"#DejaVuSans-70\" x=\"61.523438\"/>\n      <use xlink:href=\"#DejaVuSans-6f\" x=\"125\"/>\n      <use xlink:href=\"#DejaVuSans-63\" x=\"186.181641\"/>\n      <use xlink:href=\"#DejaVuSans-68\" x=\"241.162109\"/>\n     </g>\n    </g>\n   </g>\n   <g id=\"matplotlib.axis_2\">\n    <g id=\"ytick_1\">\n     <g id=\"line2d_9\">\n      <path d=\"M 30.103125 135.206151 \nL 225.403125 135.206151 \n\" clip-path=\"url(#pbccec35ea0)\" style=\"fill: none; stroke: #b0b0b0; stroke-width: 0.8; stroke-linecap: square\"/>\n     </g>\n     <g id=\"line2d_10\">\n      <defs>\n       <path id=\"m3876d8d783\" d=\"M 0 0 \nL -3.5 0 \n\" style=\"stroke: #000000; stroke-width: 0.8\"/>\n      </defs>\n      <g>\n       <use xlink:href=\"#m3876d8d783\" x=\"30.103125\" y=\"135.206151\" style=\"stroke: #000000; stroke-width: 0.8\"/>\n      </g>\n     </g>\n     <g id=\"text_6\">\n      <!-- 0.4 -->\n      <g transform=\"translate(7.2 139.00537)scale(0.1 -0.1)\">\n       <defs>\n        <path id=\"DejaVuSans-2e\" d=\"M 684 794 \nL 1344 794 \nL 1344 0 \nL 684 0 \nL 684 794 \nz\n\" transform=\"scale(0.015625)\"/>\n        <path id=\"DejaVuSans-34\" d=\"M 2419 4116 \nL 825 1625 \nL 2419 1625 \nL 2419 4116 \nz\nM 2253 4666 \nL 3047 4666 \nL 3047 1625 \nL 3713 1625 \nL 3713 1100 \nL 3047 1100 \nL 3047 0 \nL 2419 0 \nL 2419 1100 \nL 313 1100 \nL 313 1709 \nL 2253 4666 \nz\n\" transform=\"scale(0.015625)\"/>\n       </defs>\n       <use xlink:href=\"#DejaVuSans-30\"/>\n       <use xlink:href=\"#DejaVuSans-2e\" x=\"63.623047\"/>\n       <use xlink:href=\"#DejaVuSans-34\" x=\"95.410156\"/>\n      </g>\n     </g>\n    </g>\n    <g id=\"ytick_2\">\n     <g id=\"line2d_11\">\n      <path d=\"M 30.103125 106.516672 \nL 225.403125 106.516672 \n\" clip-path=\"url(#pbccec35ea0)\" style=\"fill: none; stroke: #b0b0b0; stroke-width: 0.8; stroke-linecap: square\"/>\n     </g>\n     <g id=\"line2d_12\">\n      <g>\n       <use xlink:href=\"#m3876d8d783\" x=\"30.103125\" y=\"106.516672\" style=\"stroke: #000000; stroke-width: 0.8\"/>\n      </g>\n     </g>\n     <g id=\"text_7\">\n      <!-- 0.5 -->\n      <g transform=\"translate(7.2 110.315891)scale(0.1 -0.1)\">\n       <use xlink:href=\"#DejaVuSans-30\"/>\n       <use xlink:href=\"#DejaVuSans-2e\" x=\"63.623047\"/>\n       <use xlink:href=\"#DejaVuSans-35\" x=\"95.410156\"/>\n      </g>\n     </g>\n    </g>\n    <g id=\"ytick_3\">\n     <g id=\"line2d_13\">\n      <path d=\"M 30.103125 77.827192 \nL 225.403125 77.827192 \n\" clip-path=\"url(#pbccec35ea0)\" style=\"fill: none; stroke: #b0b0b0; stroke-width: 0.8; stroke-linecap: square\"/>\n     </g>\n     <g id=\"line2d_14\">\n      <g>\n       <use xlink:href=\"#m3876d8d783\" x=\"30.103125\" y=\"77.827192\" style=\"stroke: #000000; stroke-width: 0.8\"/>\n      </g>\n     </g>\n     <g id=\"text_8\">\n      <!-- 0.6 -->\n      <g transform=\"translate(7.2 81.626411)scale(0.1 -0.1)\">\n       <defs>\n        <path id=\"DejaVuSans-36\" d=\"M 2113 2584 \nQ 1688 2584 1439 2293 \nQ 1191 2003 1191 1497 \nQ 1191 994 1439 701 \nQ 1688 409 2113 409 \nQ 2538 409 2786 701 \nQ 3034 994 3034 1497 \nQ 3034 2003 2786 2293 \nQ 2538 2584 2113 2584 \nz\nM 3366 4563 \nL 3366 3988 \nQ 3128 4100 2886 4159 \nQ 2644 4219 2406 4219 \nQ 1781 4219 1451 3797 \nQ 1122 3375 1075 2522 \nQ 1259 2794 1537 2939 \nQ 1816 3084 2150 3084 \nQ 2853 3084 3261 2657 \nQ 3669 2231 3669 1497 \nQ 3669 778 3244 343 \nQ 2819 -91 2113 -91 \nQ 1303 -91 875 529 \nQ 447 1150 447 2328 \nQ 447 3434 972 4092 \nQ 1497 4750 2381 4750 \nQ 2619 4750 2861 4703 \nQ 3103 4656 3366 4563 \nz\n\" transform=\"scale(0.015625)\"/>\n       </defs>\n       <use xlink:href=\"#DejaVuSans-30\"/>\n       <use xlink:href=\"#DejaVuSans-2e\" x=\"63.623047\"/>\n       <use xlink:href=\"#DejaVuSans-36\" x=\"95.410156\"/>\n      </g>\n     </g>\n    </g>\n    <g id=\"ytick_4\">\n     <g id=\"line2d_15\">\n      <path d=\"M 30.103125 49.137713 \nL 225.403125 49.137713 \n\" clip-path=\"url(#pbccec35ea0)\" style=\"fill: none; stroke: #b0b0b0; stroke-width: 0.8; stroke-linecap: square\"/>\n     </g>\n     <g id=\"line2d_16\">\n      <g>\n       <use xlink:href=\"#m3876d8d783\" x=\"30.103125\" y=\"49.137713\" style=\"stroke: #000000; stroke-width: 0.8\"/>\n      </g>\n     </g>\n     <g id=\"text_9\">\n      <!-- 0.7 -->\n      <g transform=\"translate(7.2 52.936932)scale(0.1 -0.1)\">\n       <defs>\n        <path id=\"DejaVuSans-37\" d=\"M 525 4666 \nL 3525 4666 \nL 3525 4397 \nL 1831 0 \nL 1172 0 \nL 2766 4134 \nL 525 4134 \nL 525 4666 \nz\n\" transform=\"scale(0.015625)\"/>\n       </defs>\n       <use xlink:href=\"#DejaVuSans-30\"/>\n       <use xlink:href=\"#DejaVuSans-2e\" x=\"63.623047\"/>\n       <use xlink:href=\"#DejaVuSans-37\" x=\"95.410156\"/>\n      </g>\n     </g>\n    </g>\n    <g id=\"ytick_5\">\n     <g id=\"line2d_17\">\n      <path d=\"M 30.103125 20.448233 \nL 225.403125 20.448233 \n\" clip-path=\"url(#pbccec35ea0)\" style=\"fill: none; stroke: #b0b0b0; stroke-width: 0.8; stroke-linecap: square\"/>\n     </g>\n     <g id=\"line2d_18\">\n      <g>\n       <use xlink:href=\"#m3876d8d783\" x=\"30.103125\" y=\"20.448233\" style=\"stroke: #000000; stroke-width: 0.8\"/>\n      </g>\n     </g>\n     <g id=\"text_10\">\n      <!-- 0.8 -->\n      <g transform=\"translate(7.2 24.247452)scale(0.1 -0.1)\">\n       <defs>\n        <path id=\"DejaVuSans-38\" d=\"M 2034 2216 \nQ 1584 2216 1326 1975 \nQ 1069 1734 1069 1313 \nQ 1069 891 1326 650 \nQ 1584 409 2034 409 \nQ 2484 409 2743 651 \nQ 3003 894 3003 1313 \nQ 3003 1734 2745 1975 \nQ 2488 2216 2034 2216 \nz\nM 1403 2484 \nQ 997 2584 770 2862 \nQ 544 3141 544 3541 \nQ 544 4100 942 4425 \nQ 1341 4750 2034 4750 \nQ 2731 4750 3128 4425 \nQ 3525 4100 3525 3541 \nQ 3525 3141 3298 2862 \nQ 3072 2584 2669 2484 \nQ 3125 2378 3379 2068 \nQ 3634 1759 3634 1313 \nQ 3634 634 3220 271 \nQ 2806 -91 2034 -91 \nQ 1263 -91 848 271 \nQ 434 634 434 1313 \nQ 434 1759 690 2068 \nQ 947 2378 1403 2484 \nz\nM 1172 3481 \nQ 1172 3119 1398 2916 \nQ 1625 2713 2034 2713 \nQ 2441 2713 2670 2916 \nQ 2900 3119 2900 3481 \nQ 2900 3844 2670 4047 \nQ 2441 4250 2034 4250 \nQ 1625 4250 1398 4047 \nQ 1172 3844 1172 3481 \nz\n\" transform=\"scale(0.015625)\"/>\n       </defs>\n       <use xlink:href=\"#DejaVuSans-30\"/>\n       <use xlink:href=\"#DejaVuSans-2e\" x=\"63.623047\"/>\n       <use xlink:href=\"#DejaVuSans-38\" x=\"95.410156\"/>\n      </g>\n     </g>\n    </g>\n   </g>\n   <g id=\"line2d_19\">\n    <path d=\"M 21.879967 50.927227 \nL 23.935757 51.097106 \nL 25.991546 50.797598 \nL 28.047336 50.980105 \nL 30.103125 51.063833 \nL 32.158914 50.845477 \nL 34.214704 50.588567 \nL 36.270493 51.1526 \nL 38.326283 51.038531 \nL 40.382072 51.571094 \nL 42.437862 53.282035 \nL 44.493651 52.985847 \nL 46.549441 53.49058 \nL 48.60523 54.504237 \nL 50.66102 54.230654 \nL 52.716809 54.707327 \nL 54.772599 56.744557 \nL 56.828388 57.436575 \nL 58.884178 59.128151 \nL 60.939967 59.759341 \nL 62.995757 65.905351 \nL 65.051546 64.386299 \nL 67.107336 65.752018 \nL 69.163125 64.345585 \nL 71.218914 62.753094 \nL 73.274704 57.42719 \nL 75.330493 58.832992 \nL 77.386283 62.079392 \nL 79.442072 67.603062 \nL 81.497862 68.91807 \nL 83.553651 59.26399 \nL 85.609441 67.373065 \nL 87.66523 69.343896 \nL 89.72102 71.973362 \nL 91.776809 70.464719 \nL 93.832599 52.351315 \nL 95.888388 63.405145 \nL 97.944178 67.932252 \nL 99.999967 67.913282 \nL 102.055757 72.833128 \nL 104.111546 51.926607 \nL 106.167336 63.665567 \nL 108.223125 68.073431 \nL 110.278914 73.103487 \nL 112.334704 73.148512 \nL 114.390493 68.924431 \nL 116.446283 80.140877 \nL 118.502072 70.196627 \nL 120.557862 69.767517 \nL 122.613651 69.664752 \nL 124.669441 83.268908 \nL 126.72523 77.623981 \nL 128.78102 81.093793 \nL 130.836809 80.671237 \nL 132.892599 82.055115 \nL 134.948388 73.465358 \nL 137.004178 74.979213 \nL 139.059967 72.845218 \nL 141.115757 72.496906 \nL 143.171546 77.664642 \nL 145.227336 101.861118 \nL 147.283125 87.485505 \nL 149.338914 78.096176 \nL 151.394704 81.343567 \nL 153.450493 84.227752 \nL 155.506283 81.52933 \nL 157.562072 93.796615 \nL 159.617862 98.563389 \nL 161.673651 85.863167 \nL 163.729441 82.298138 \nL 165.78523 116.56623 \nL 167.84102 114.281859 \nL 169.896809 114.240447 \nL 171.952599 111.55123 \nL 174.008388 115.141417 \nL 176.064178 112.548139 \nL 178.119967 85.072744 \nL 180.175757 94.933937 \nL 182.231546 98.98334 \nL 184.287336 97.952629 \nL 186.343125 116.100206 \nL 188.398914 117.398017 \nL 190.454704 128.965416 \nL 192.510493 126.706177 \nL 194.566283 126.006583 \nL 196.622072 121.327583 \nL 198.677862 123.35122 \nL 200.733651 112.546643 \nL 202.789441 113.25481 \nL 204.84523 115.078119 \nL 206.90102 139.5 \nL 208.956809 135.338054 \nL 211.012599 139.094641 \nL 213.068388 132.956867 \nL 215.124178 129.684615 \nL 217.179967 127.233444 \nL 219.235757 127.03973 \nL 221.291546 126.476306 \nL 223.347336 126.499386 \nL 225.403125 126.194958 \n\" clip-path=\"url(#pbccec35ea0)\" style=\"fill: none; stroke: #1f77b4; stroke-width: 1.5; stroke-linecap: square\"/>\n   </g>\n   <g id=\"line2d_20\">\n    <path d=\"M 21.879967 102.033941 \nL 23.935757 103.154624 \nL 25.991546 106.143111 \nL 28.047336 103.434794 \nL 30.103125 102.645869 \nL 32.158914 106.516672 \nL 34.214704 104.835648 \nL 36.270493 98.298331 \nL 38.326283 98.671892 \nL 40.382072 99.230455 \nL 42.437862 76.258236 \nL 44.493651 81.301309 \nL 46.549441 83.729455 \nL 48.60523 82.421992 \nL 50.66102 83.064161 \nL 52.716809 88.585747 \nL 54.772599 76.258236 \nL 56.828388 78.499602 \nL 58.884178 75.417724 \nL 60.939967 74.184084 \nL 62.995757 66.172091 \nL 65.051546 68.413457 \nL 67.107336 65.79853 \nL 69.163125 67.853116 \nL 71.218914 69.630198 \nL 73.274704 66.172091 \nL 75.330493 69.53414 \nL 77.386283 67.292774 \nL 79.442072 60.568677 \nL 81.497862 59.839344 \nL 83.553651 85.223699 \nL 85.609441 68.413457 \nL 87.66523 65.79853 \nL 89.72102 61.68936 \nL 91.776809 63.254758 \nL 93.832599 97.55121 \nL 95.888388 74.016871 \nL 97.944178 68.787018 \nL 99.999967 67.853116 \nL 102.055757 62.571676 \nL 104.111546 86.344382 \nL 106.167336 66.172091 \nL 108.223125 64.304287 \nL 110.278914 61.129019 \nL 112.334704 61.433204 \nL 114.390493 69.53414 \nL 116.446283 56.085946 \nL 118.502072 68.039896 \nL 120.557862 65.891921 \nL 122.613651 65.076313 \nL 124.669441 44.879118 \nL 126.72523 49.361849 \nL 128.78102 45.62624 \nL 130.836809 47.400655 \nL 132.892599 46.86077 \nL 134.948388 67.292774 \nL 137.004178 61.68936 \nL 139.059967 62.436482 \nL 141.115757 62.810043 \nL 143.171546 56.42393 \nL 145.227336 35.913656 \nL 147.283125 45.999801 \nL 149.338914 58.327312 \nL 151.394704 55.805775 \nL 153.450493 52.097739 \nL 155.506283 44.879118 \nL 157.562072 39.836046 \nL 159.617862 34.792973 \nL 161.673651 48.801508 \nL 163.729441 51.64235 \nL 165.78523 22.465462 \nL 167.84102 25.267169 \nL 169.896809 27.321754 \nL 171.952599 29.46973 \nL 174.008388 27.279062 \nL 176.064178 29.189559 \nL 178.119967 48.801508 \nL 180.175757 38.528582 \nL 182.231546 36.193827 \nL 184.287336 37.29761 \nL 186.343125 22.465462 \nL 188.398914 22.465462 \nL 190.454704 16.114927 \nL 192.510493 17.70256 \nL 194.566283 17.943596 \nL 196.622072 16.862048 \nL 198.677862 15.741366 \nL 200.733651 23.586145 \nL 202.789441 23.866316 \nL 204.84523 22.95287 \nL 206.90102 13.5 \nL 208.956809 16.301707 \nL 211.012599 13.5 \nL 213.068388 15.741366 \nL 215.124178 17.943596 \nL 217.179967 22.465462 \nL 219.235757 19.663755 \nL 221.291546 19.850536 \nL 223.347336 18.543073 \nL 225.403125 18.854373 \n\" clip-path=\"url(#pbccec35ea0)\" style=\"fill: none; stroke-dasharray: 5.55,2.4; stroke-dashoffset: 0; stroke: #bf00bf; stroke-width: 1.5\"/>\n   </g>\n   <g id=\"line2d_21\">\n    <path d=\"M 30.103125 102.797665 \nL 40.382072 110.235679 \nL 50.66102 69.857893 \nL 60.939967 88.984212 \nL 71.218914 56.044439 \nL 81.497862 74.639472 \nL 91.776809 40.10584 \nL 102.055757 103.328952 \nL 112.334704 67.201459 \nL 122.613651 49.137713 \nL 132.892599 60.826019 \nL 143.171546 37.980693 \nL 153.450493 102.797665 \nL 163.729441 39.574553 \nL 174.008388 45.949993 \nL 184.287336 45.418706 \nL 194.566283 34.792973 \nL 204.84523 43.29356 \nL 215.124178 54.981866 \nL 225.403125 43.824846 \n\" clip-path=\"url(#pbccec35ea0)\" style=\"fill: none; stroke-dasharray: 9.6,2.4,1.5,2.4; stroke-dashoffset: 0; stroke: #008000; stroke-width: 1.5\"/>\n   </g>\n   <g id=\"patch_3\">\n    <path d=\"M 30.103125 145.8 \nL 30.103125 7.2 \n\" style=\"fill: none; stroke: #000000; stroke-width: 0.8; stroke-linejoin: miter; stroke-linecap: square\"/>\n   </g>\n   <g id=\"patch_4\">\n    <path d=\"M 225.403125 145.8 \nL 225.403125 7.2 \n\" style=\"fill: none; stroke: #000000; stroke-width: 0.8; stroke-linejoin: miter; stroke-linecap: square\"/>\n   </g>\n   <g id=\"patch_5\">\n    <path d=\"M 30.103125 145.8 \nL 225.403125 145.8 \n\" style=\"fill: none; stroke: #000000; stroke-width: 0.8; stroke-linejoin: miter; stroke-linecap: square\"/>\n   </g>\n   <g id=\"patch_6\">\n    <path d=\"M 30.103125 7.2 \nL 225.403125 7.2 \n\" style=\"fill: none; stroke: #000000; stroke-width: 0.8; stroke-linejoin: miter; stroke-linecap: square\"/>\n   </g>\n   <g id=\"legend_1\">\n    <g id=\"patch_7\">\n     <path d=\"M 37.103125 140.8 \nL 114.871875 140.8 \nQ 116.871875 140.8 116.871875 138.8 \nL 116.871875 95.765625 \nQ 116.871875 93.765625 114.871875 93.765625 \nL 37.103125 93.765625 \nQ 35.103125 93.765625 35.103125 95.765625 \nL 35.103125 138.8 \nQ 35.103125 140.8 37.103125 140.8 \nz\n\" style=\"fill: #ffffff; opacity: 0.8; stroke: #cccccc; stroke-linejoin: miter\"/>\n    </g>\n    <g id=\"line2d_22\">\n     <path d=\"M 39.103125 101.864063 \nL 49.103125 101.864063 \nL 59.103125 101.864063 \n\" style=\"fill: none; stroke: #1f77b4; stroke-width: 1.5; stroke-linecap: square\"/>\n    </g>\n    <g id=\"text_11\">\n     <!-- train loss -->\n     <g transform=\"translate(67.103125 105.364063)scale(0.1 -0.1)\">\n      <defs>\n       <path id=\"DejaVuSans-74\" d=\"M 1172 4494 \nL 1172 3500 \nL 2356 3500 \nL 2356 3053 \nL 1172 3053 \nL 1172 1153 \nQ 1172 725 1289 603 \nQ 1406 481 1766 481 \nL 2356 481 \nL 2356 0 \nL 1766 0 \nQ 1100 0 847 248 \nQ 594 497 594 1153 \nL 594 3053 \nL 172 3053 \nL 172 3500 \nL 594 3500 \nL 594 4494 \nL 1172 4494 \nz\n\" transform=\"scale(0.015625)\"/>\n       <path id=\"DejaVuSans-72\" d=\"M 2631 2963 \nQ 2534 3019 2420 3045 \nQ 2306 3072 2169 3072 \nQ 1681 3072 1420 2755 \nQ 1159 2438 1159 1844 \nL 1159 0 \nL 581 0 \nL 581 3500 \nL 1159 3500 \nL 1159 2956 \nQ 1341 3275 1631 3429 \nQ 1922 3584 2338 3584 \nQ 2397 3584 2469 3576 \nQ 2541 3569 2628 3553 \nL 2631 2963 \nz\n\" transform=\"scale(0.015625)\"/>\n       <path id=\"DejaVuSans-61\" d=\"M 2194 1759 \nQ 1497 1759 1228 1600 \nQ 959 1441 959 1056 \nQ 959 750 1161 570 \nQ 1363 391 1709 391 \nQ 2188 391 2477 730 \nQ 2766 1069 2766 1631 \nL 2766 1759 \nL 2194 1759 \nz\nM 3341 1997 \nL 3341 0 \nL 2766 0 \nL 2766 531 \nQ 2569 213 2275 61 \nQ 1981 -91 1556 -91 \nQ 1019 -91 701 211 \nQ 384 513 384 1019 \nQ 384 1609 779 1909 \nQ 1175 2209 1959 2209 \nL 2766 2209 \nL 2766 2266 \nQ 2766 2663 2505 2880 \nQ 2244 3097 1772 3097 \nQ 1472 3097 1187 3025 \nQ 903 2953 641 2809 \nL 641 3341 \nQ 956 3463 1253 3523 \nQ 1550 3584 1831 3584 \nQ 2591 3584 2966 3190 \nQ 3341 2797 3341 1997 \nz\n\" transform=\"scale(0.015625)\"/>\n       <path id=\"DejaVuSans-69\" d=\"M 603 3500 \nL 1178 3500 \nL 1178 0 \nL 603 0 \nL 603 3500 \nz\nM 603 4863 \nL 1178 4863 \nL 1178 4134 \nL 603 4134 \nL 603 4863 \nz\n\" transform=\"scale(0.015625)\"/>\n       <path id=\"DejaVuSans-6e\" d=\"M 3513 2113 \nL 3513 0 \nL 2938 0 \nL 2938 2094 \nQ 2938 2591 2744 2837 \nQ 2550 3084 2163 3084 \nQ 1697 3084 1428 2787 \nQ 1159 2491 1159 1978 \nL 1159 0 \nL 581 0 \nL 581 3500 \nL 1159 3500 \nL 1159 2956 \nQ 1366 3272 1645 3428 \nQ 1925 3584 2291 3584 \nQ 2894 3584 3203 3211 \nQ 3513 2838 3513 2113 \nz\n\" transform=\"scale(0.015625)\"/>\n       <path id=\"DejaVuSans-20\" transform=\"scale(0.015625)\"/>\n       <path id=\"DejaVuSans-6c\" d=\"M 603 4863 \nL 1178 4863 \nL 1178 0 \nL 603 0 \nL 603 4863 \nz\n\" transform=\"scale(0.015625)\"/>\n       <path id=\"DejaVuSans-73\" d=\"M 2834 3397 \nL 2834 2853 \nQ 2591 2978 2328 3040 \nQ 2066 3103 1784 3103 \nQ 1356 3103 1142 2972 \nQ 928 2841 928 2578 \nQ 928 2378 1081 2264 \nQ 1234 2150 1697 2047 \nL 1894 2003 \nQ 2506 1872 2764 1633 \nQ 3022 1394 3022 966 \nQ 3022 478 2636 193 \nQ 2250 -91 1575 -91 \nQ 1294 -91 989 -36 \nQ 684 19 347 128 \nL 347 722 \nQ 666 556 975 473 \nQ 1284 391 1588 391 \nQ 1994 391 2212 530 \nQ 2431 669 2431 922 \nQ 2431 1156 2273 1281 \nQ 2116 1406 1581 1522 \nL 1381 1569 \nQ 847 1681 609 1914 \nQ 372 2147 372 2553 \nQ 372 3047 722 3315 \nQ 1072 3584 1716 3584 \nQ 2034 3584 2315 3537 \nQ 2597 3491 2834 3397 \nz\n\" transform=\"scale(0.015625)\"/>\n      </defs>\n      <use xlink:href=\"#DejaVuSans-74\"/>\n      <use xlink:href=\"#DejaVuSans-72\" x=\"39.208984\"/>\n      <use xlink:href=\"#DejaVuSans-61\" x=\"80.322266\"/>\n      <use xlink:href=\"#DejaVuSans-69\" x=\"141.601562\"/>\n      <use xlink:href=\"#DejaVuSans-6e\" x=\"169.384766\"/>\n      <use xlink:href=\"#DejaVuSans-20\" x=\"232.763672\"/>\n      <use xlink:href=\"#DejaVuSans-6c\" x=\"264.550781\"/>\n      <use xlink:href=\"#DejaVuSans-6f\" x=\"292.333984\"/>\n      <use xlink:href=\"#DejaVuSans-73\" x=\"353.515625\"/>\n      <use xlink:href=\"#DejaVuSans-73\" x=\"405.615234\"/>\n     </g>\n    </g>\n    <g id=\"line2d_23\">\n     <path d=\"M 39.103125 116.542188 \nL 49.103125 116.542188 \nL 59.103125 116.542188 \n\" style=\"fill: none; stroke-dasharray: 5.55,2.4; stroke-dashoffset: 0; stroke: #bf00bf; stroke-width: 1.5\"/>\n    </g>\n    <g id=\"text_12\">\n     <!-- train acc -->\n     <g transform=\"translate(67.103125 120.042188)scale(0.1 -0.1)\">\n      <use xlink:href=\"#DejaVuSans-74\"/>\n      <use xlink:href=\"#DejaVuSans-72\" x=\"39.208984\"/>\n      <use xlink:href=\"#DejaVuSans-61\" x=\"80.322266\"/>\n      <use xlink:href=\"#DejaVuSans-69\" x=\"141.601562\"/>\n      <use xlink:href=\"#DejaVuSans-6e\" x=\"169.384766\"/>\n      <use xlink:href=\"#DejaVuSans-20\" x=\"232.763672\"/>\n      <use xlink:href=\"#DejaVuSans-61\" x=\"264.550781\"/>\n      <use xlink:href=\"#DejaVuSans-63\" x=\"325.830078\"/>\n      <use xlink:href=\"#DejaVuSans-63\" x=\"380.810547\"/>\n     </g>\n    </g>\n    <g id=\"line2d_24\">\n     <path d=\"M 39.103125 131.220313 \nL 49.103125 131.220313 \nL 59.103125 131.220313 \n\" style=\"fill: none; stroke-dasharray: 9.6,2.4,1.5,2.4; stroke-dashoffset: 0; stroke: #008000; stroke-width: 1.5\"/>\n    </g>\n    <g id=\"text_13\">\n     <!-- test acc -->\n     <g transform=\"translate(67.103125 134.720313)scale(0.1 -0.1)\">\n      <use xlink:href=\"#DejaVuSans-74\"/>\n      <use xlink:href=\"#DejaVuSans-65\" x=\"39.208984\"/>\n      <use xlink:href=\"#DejaVuSans-73\" x=\"100.732422\"/>\n      <use xlink:href=\"#DejaVuSans-74\" x=\"152.832031\"/>\n      <use xlink:href=\"#DejaVuSans-20\" x=\"192.041016\"/>\n      <use xlink:href=\"#DejaVuSans-61\" x=\"223.828125\"/>\n      <use xlink:href=\"#DejaVuSans-63\" x=\"285.107422\"/>\n      <use xlink:href=\"#DejaVuSans-63\" x=\"340.087891\"/>\n     </g>\n    </g>\n   </g>\n  </g>\n </g>\n <defs>\n  <clipPath id=\"pbccec35ea0\">\n   <rect x=\"30.103125\" y=\"7.2\" width=\"195.3\" height=\"138.6\"/>\n  </clipPath>\n </defs>\n</svg>\n",
            "text/plain": [
              "<Figure size 350x250 with 1 Axes>"
            ]
          },
          "metadata": {},
          "output_type": "display_data"
        }
      ],
      "source": [
        "#Alexnet (good with lr 0.005)\n",
        "model = AlexNet(num_classes=2)\n",
        "d2l.train_ch6(model, train_dataloader, test_dataloader, num_epochs, lr, device)"
      ]
    },
    {
      "cell_type": "markdown",
      "metadata": {
        "id": "SM92WnYpsMN6"
      },
      "source": [
        "fine tunning"
      ]
    },
    {
      "cell_type": "code",
      "execution_count": null,
      "metadata": {
        "id": "VaCCx9VKsMN6"
      },
      "outputs": [],
      "source": [
        "#VGG\n",
        "model = VGG()\n",
        "d2l.train_ch6(model, train_dataloader, test_dataloader, 10, 0.002, device)"
      ]
    },
    {
      "cell_type": "code",
      "execution_count": null,
      "metadata": {
        "id": "a8UPMzwMsMN7"
      },
      "outputs": [],
      "source": [
        "#GGnet with custom ch6\n",
        "model = GoogleNet()\n",
        "train_ch6(model, train_dataloader, test_dataloader, num_epochs, lr, device)"
      ]
    },
    {
      "cell_type": "markdown",
      "metadata": {
        "id": "oN7KnemWsMN7"
      },
      "source": [
        "# REFERENCE"
      ]
    },
    {
      "cell_type": "markdown",
      "metadata": {
        "id": "HbQ5NNVpsMN7"
      },
      "source": [
        "- https://aicurious.io/blog/2019-09-23-cac-ham-kich-hoat-activation-function-trong-neural-networks\n",
        "- https://d2l.aivivn.com/chapter_convolutional-modern/alexnet_vn.html#doc-tap-du-lieu\n",
        "- https://d2l.aivivn.com/chapter_convolutional-modern/vgg_vn.html?highlight=vgg\n",
        "- https://proceedings.neurips.cc/paper_files/paper/2012/file/c399862d3b9d6b76c8436e924a68c45b-Paper.pdf\n",
        "\n",
        "data\n",
        "- https://www.kaggle.com/code/sathvikvadarevu/supervised-ml-algorithms"
      ]
    },
    {
      "cell_type": "markdown",
      "metadata": {
        "id": "oqK6F1aUsMN7"
      },
      "source": [
        "thay fully connected bằng SVM, rút trích đặc trưng"
      ]
    },
    {
      "cell_type": "code",
      "execution_count": null,
      "metadata": {
        "id": "btjA9Y1asMN7"
      },
      "outputs": [],
      "source": [
        "def testData(train_dataset,test_dataset,epoch,title,usePreTrain=True):\n",
        "  seed_value = 42\n",
        "  torch.manual_seed(seed_value)\n",
        "  #grouped = dataframe.groupby('labels')\n",
        "  #_data = grouped.apply(lambda x: x).reset_index(drop=True)\n",
        "  #train_data, test_data = train_test_split(_data,random_state =seed_value, test_size=0.3)\n",
        "  train = CustomDataset(train_dataset)\n",
        "  test = CustomDataset(test_dataset)\n",
        "  train_dataloader = DataLoader(train, batch_size=32, shuffle=True)\n",
        "  test_dataloader = DataLoader(test, batch_size=32, shuffle=False)\n",
        "\n",
        "\n",
        "  # Define model, loss function, and optimizer\n",
        "  loss_fn = nn.CrossEntropyLoss()\n",
        "  device = torch.device(\"cuda:0\")\n",
        "  lr, num_epochs = 0.05, 20\n",
        "  if usePreTrain==True:\n",
        "    vgg16 = models.vgg16()\n",
        "  else:\n",
        "    vgg16 = models.vgg16(pretrained=False)\n",
        "\n",
        "  # Define a loss function\n",
        "  vgg16.to(device)\n",
        "  criterion = nn.CrossEntropyLoss()\n",
        "\n",
        "\n",
        "  # Define an optimizer\n",
        "  optimizer = optim.SGD(vgg16.parameters(), lr=0.001, momentum=0.9)\n",
        "\n",
        "  # Loop through the data and train the model\n",
        "  for epoch in range(epoch):\n",
        "      running_loss=0\n",
        "      for i, data in enumerate(train_dataloader, 0):\n",
        "          # Get the inputs and labels\n",
        "          inputs, labels = data\n",
        "\n",
        "          # Zero the parameter gradients\n",
        "          optimizer.zero_grad()\n",
        "\n",
        "          # Forward pass\n",
        "          inputs, labels = inputs.to(device), labels.to(device)\n",
        "          outputs = vgg16(inputs)\n",
        "\n",
        "          # Compute the loss\n",
        "          loss = criterion(outputs, labels)\n",
        "\n",
        "          # Backward pass\n",
        "          loss.backward()\n",
        "\n",
        "          # Update weights\n",
        "          optimizer.step()\n",
        "\n",
        "  #get Accuracy\n",
        "  correct = 0\n",
        "  total = 0\n",
        "  with torch.no_grad():\n",
        "      for data in test_dataloader:\n",
        "          inputs, labels = data\n",
        "          inputs = inputs.to(device)\n",
        "          labels = labels.to(device)\n",
        "          outputs = vgg16(inputs)\n",
        "          _, predicted = torch.max(outputs.data, 1)\n",
        "          total += labels.size(0)\n",
        "          correct += (predicted == labels).sum().item()\n",
        "\n",
        "  accuracy = 100 * correct / total\n",
        "  print('Accuracy of the network on the test images: %d %%' % accuracy)\n",
        "  f1(vgg16, test_dataloader,title)"
      ]
    }
  ],
  "metadata": {
    "kernelspec": {
      "display_name": "math",
      "language": "python",
      "name": "python3"
    },
    "language_info": {
      "codemirror_mode": {
        "name": "ipython",
        "version": 3
      },
      "file_extension": ".py",
      "mimetype": "text/x-python",
      "name": "python",
      "nbconvert_exporter": "python",
      "pygments_lexer": "ipython3",
      "version": "3.9.16"
    },
    "orig_nbformat": 4,
    "colab": {
      "provenance": []
    }
  },
  "nbformat": 4,
  "nbformat_minor": 0
}